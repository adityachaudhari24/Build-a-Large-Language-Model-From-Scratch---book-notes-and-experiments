{
 "cells": [
  {
   "cell_type": "markdown",
   "id": "691d145c",
   "metadata": {},
   "source": [
    "## A.2.1 Scalars, vectors, matrices, and tensors"
   ]
  },
  {
   "cell_type": "code",
   "execution_count": 10,
   "id": "7eedb424",
   "metadata": {},
   "outputs": [],
   "source": [
    "import torch\n",
    "import numpy as np\n",
    "\n",
    "# create a 0D tensor (scalar) from a Python integer\n",
    "tensor0d = torch.tensor(1)\n",
    "\n",
    "# create a 1D tensor (vector) from a Python list\n",
    "tensor1d = torch.tensor([1, 2, 3])\n",
    "\n",
    "# create a 2D tensor from a nested Python list\n",
    "tensor2d = torch.tensor([[1, 2], \n",
    "                         [3, 4]])\n",
    "\n",
    "# create a 3D tensor from a nested Python list\n",
    "tensor3d_1 = torch.tensor([[[1, 2], [3, 4]], \n",
    "                           [[5, 6], [7, 8]]])\n",
    "\n",
    "# create a 3D tensor from NumPy array\n",
    "ary3d = np.array([[[1, 2], [3, 4]], \n",
    "                  [[5, 6], [7, 8]]])\n",
    "tensor3d_2 = torch.tensor(ary3d)  # Copies NumPy array\n",
    "tensor3d_3 = torch.from_numpy(ary3d)  # Shares memory with NumPy array"
   ]
  },
  {
   "cell_type": "code",
   "execution_count": null,
   "id": "63868d0f",
   "metadata": {},
   "outputs": [
    {
     "name": "stdout",
     "output_type": "stream",
     "text": [
      "tensor1d: tensor([1, 2, 3])\n",
      "tensor2d: tensor([[1, 2],\n",
      "        [3, 4]])\n",
      "tensor3d_1: tensor([[[1, 2],\n",
      "         [3, 4]],\n",
      "\n",
      "        [[5, 6],\n",
      "         [7, 8]]])\n",
      "tensor1d: torch.Size([3])\n",
      "tensor2d: torch.Size([2, 2])\n",
      "tensor3d_1: torch.Size([2, 2, 2])\n"
     ]
    }
   ],
   "source": [
    "print(\"tensor1d:\", tensor1d)\n",
    "print(\"tensor2d:\", tensor2d)\n",
    "print(\"tensor3d_1:\", tensor3d_1)\n",
    "\n",
    "# printing the shape of the tensors\n",
    "print(\"tensor1d:\", tensor1d.shape)\n",
    "print(\"tensor2d:\", tensor2d.shape) # returns tensor2d: torch.Size([2, 2]) means tensor has 2 rows and 2 columns\n",
    "print(\"tensor3d_1:\", tensor3d_1.shape) # returns tensor3d_1: torch.Size([2, 2, 2]) means tensor has 2 layers, each with 2 rows and 2 columns"
   ]
  },
  {
   "cell_type": "code",
   "execution_count": 13,
   "id": "a2481a13",
   "metadata": {},
   "outputs": [
    {
     "name": "stdout",
     "output_type": "stream",
     "text": [
      "torch.int64\n"
     ]
    }
   ],
   "source": [
    "# tensor data type\n",
    "tensor1d = torch.tensor([1, 2, 3])\n",
    "print(tensor1d.dtype)"
   ]
  },
  {
   "cell_type": "code",
   "execution_count": 26,
   "id": "80f763fd",
   "metadata": {},
   "outputs": [
    {
     "name": "stdout",
     "output_type": "stream",
     "text": [
      "tensor([1.])\n"
     ]
    }
   ],
   "source": [
    "test1 = torch.tensor([1.0])\n",
    "print(test1)"
   ]
  }
 ],
 "metadata": {
  "kernelspec": {
   "display_name": "pytorch_env",
   "language": "python",
   "name": "python3"
  },
  "language_info": {
   "codemirror_mode": {
    "name": "ipython",
    "version": 3
   },
   "file_extension": ".py",
   "mimetype": "text/x-python",
   "name": "python",
   "nbconvert_exporter": "python",
   "pygments_lexer": "ipython3",
   "version": "3.11.13"
  }
 },
 "nbformat": 4,
 "nbformat_minor": 5
}
